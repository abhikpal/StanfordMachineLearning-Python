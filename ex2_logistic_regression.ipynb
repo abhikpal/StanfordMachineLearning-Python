{
 "cells": [
  {
   "cell_type": "markdown",
   "metadata": {},
   "source": [
    "<center>\n",
    "<h1>Programming Exercise 2:<br>Logistic Regression<br></h1>\n",
    "<h2>Machine Learning<br></h2>\n",
    "</center>"
   ]
  },
  {
   "cell_type": "markdown",
   "metadata": {},
   "source": [
    "# Introduction\n",
    "In this exercise, you will implement logistic regression and apply it to two\n",
    "different datasets. Before starting on the programming exercise, we strongly\n",
    "recommend watching the video lectures and completing the review questions\n",
    "for the associated topics."
   ]
  },
  {
   "cell_type": "code",
   "execution_count": 1,
   "metadata": {
    "collapsed": true
   },
   "outputs": [],
   "source": [
    "# Import the required libraries.\n",
    "import matplotlib.pyplot as plt\n",
    "import numpy as np\n",
    "import pandas as pd\n",
    "from scipy import optimize\n",
    "\n",
    "\n",
    "import mlcourse.submission\n",
    "\n",
    "submit = mlcourse.submission.create_submission('ex2')\n",
    "\n",
    "%matplotlib inline"
   ]
  },
  {
   "cell_type": "markdown",
   "metadata": {},
   "source": [
    "# Logistic Regression\n",
    "\n",
    "In this part of the exercise, you will build a logistic regression model to\n",
    "predict whether a student gets admitted into a university.\n",
    "\n",
    "Suppose that you are the administrator of a university department and\n",
    "you want to determine each applicant's chance of admission based on their\n",
    "results on two exams. You have historical data from previous applicants\n",
    "that you can use as a training set for logistic regression. For each training\n",
    "example, you have the applicant's scores on two exams and the admissions\n",
    "decision.\n",
    "\n",
    "Your task is to build a classification model that estimates an applicant's\n",
    "probability of admission based the scores from those two exams. This outline\n",
    "and the framework code here will guide you through the exercise."
   ]
  },
  {
   "cell_type": "code",
   "execution_count": 2,
   "metadata": {
    "collapsed": false
   },
   "outputs": [],
   "source": [
    "# Load Data\n",
    "#  The first two columns contains the exam scores and the third column\n",
    "#  contains the label.\n",
    "\n",
    "# read comma separated data\n",
    "data = pd.read_csv('./data/ex2/ex2data1.csv', header=None)\n",
    "\n",
    "X = np.array([data[0], data[1]]).T\n",
    "y = np.array([data[2]]).T"
   ]
  },
  {
   "cell_type": "markdown",
   "metadata": {},
   "source": [
    "## Visualizing the data\n",
    "\n",
    "Before starting to implement any learning algorithm, it is always good to\n",
    "visualize the data if possible. In the first part, the code will load the\n",
    "data and display it on a 2-dimensional plot by calling the function `plot_data`.\n",
    "\n",
    "You will now complete the code in `plot_data` so that it displays a figure\n",
    "like Figure 1, where the axes are the two exam scores, and the positive and\n",
    "negative examples are shown with different markers.\n",
    "\n",
    "<center>\n",
    "    <img src='./figs/ex2_fig1.png'>\n",
    "    Figure 1:  Scatter plot of training data\n",
    "</center>\n",
    "\n",
    "To help you get more familiar with plotting, we have left `plot_data`\n",
    "empty so you can try to implement it yourself. However, this is an *optional\n",
    "(ungraded)* exercise. We also provide our implementation below so you can\n",
    "copy it or refer to it. If you choose to copy our example, make sure you learn\n",
    "what each of its commands is doing by consulting the documentation.\n",
    "\n",
    "```python\n",
    "    # Find Indices of Positive and Negative Examples\n",
    "    pos = np.where(y == 1)[0]\n",
    "    neg = np.where(y == 0)[0]\n",
    "\n",
    "    # Plot Examples\n",
    "    plt.plot(X[pos][:, 0], X[pos][:, 1], 'k+', linewidth=4, markersize=8)\n",
    "    plt.plot(X[neg][:, 0], X[neg][:, 1], 'yo', markersize=8)\n",
    "```\n"
   ]
  },
  {
   "cell_type": "code",
   "execution_count": 3,
   "metadata": {
    "collapsed": true
   },
   "outputs": [],
   "source": [
    "def plot_data(X, y):\n",
    "    \"\"\"\n",
    "    plot_data plots the data points X and y into a new figure \n",
    "\n",
    "    plots the data points with `+` for the positive examples\n",
    "    and `o` for the negative examples. X is assumed to be a Mx2 matrix.\n",
    "    \"\"\"\n",
    "\n",
    "    # ====================== YOUR CODE HERE ======================\n",
    "    # Instructions:\n",
    "    #     Plot the positive and negative examples on a\n",
    "    #     2D plot, using the option 'k+' for the positive\n",
    "    #     examples and 'yo' for the negative examples.\n",
    "\n",
    "\n",
    "    # Find Indices of Positive and Negative Examples\n",
    "    pos = np.where(y == 1)[0]\n",
    "    neg = np.where(y == 0)[0]\n",
    "\n",
    "    # Plot Examples\n",
    "    plt.plot(X[pos][:, 0], X[pos][:, 1], 'k+', linewidth=4, markersize=8)\n",
    "    plt.plot(X[neg][:, 0], X[neg][:, 1], 'yo', markersize=8)\n",
    "\n",
    "    # ============================================================="
   ]
  },
  {
   "cell_type": "code",
   "execution_count": 4,
   "metadata": {
    "collapsed": false
   },
   "outputs": [
    {
     "name": "stdout",
     "output_type": "stream",
     "text": [
      "Plotting data with + indicating (y = 1) examples and o indicating (y = 0) examples\n"
     ]
    },
    {
     "data": {
      "text/plain": [
       "<matplotlib.legend.Legend at 0x7fce204cbe10>"
      ]
     },
     "execution_count": 4,
     "metadata": {},
     "output_type": "execute_result"
    },
    {
     "data": {
      "image/png": "[encoded data removed]",
      "text/plain": [
       "<matplotlib.figure.Figure at 0x7fce204cb310>"
      ]
     },
     "metadata": {},
     "output_type": "display_data"
    }
   ],
   "source": [
    "#  We start the exercise by first plotting the data to understand the \n",
    "#  the problem we are working with.\n",
    "\n",
    "print(\"Plotting data with + indicating (y = 1) examples and o indicating (y = 0) examples\")\n",
    "\n",
    "plt.figure(figsize=(8, 6))\n",
    "plot_data(X, y)\n",
    "\n",
    "# Put some Labels and the Legend\n",
    "plt.xlabel('Exam 1 score')\n",
    "plt.ylabel('Exam 2 score')\n",
    "plt.legend(['Admitted', 'Not admitted'])\n",
    "# plt.savefig('./figs/ex2_fig1.png')"
   ]
  },
  {
   "cell_type": "markdown",
   "metadata": {},
   "source": [
    "## Implementation\n",
    "\n",
    "### Warmup exercise: sigmoid function\n",
    "\n",
    "Before you start with the actual cost function, recall that the logistic regression\n",
    "hypothesis is defined as:\n",
    "\n",
    "$$h_\\theta(x) = g(\\theta^Tx),$$\n",
    "\n",
    "where function $g$ is the sigmoid function. The sigmoid function is defined as:\n",
    "\n",
    "$$g(z) = \\dfrac{1}{1 + e^{-z}}.$$\n",
    "\n",
    "Your first step is to implement this function in `sigmoid` so it can be\n",
    "called by the rest of your program. When you are finished, try testing a few\n",
    "values by calling `sigmoid(x)` at an empty cell in the notebook.\n",
    "For large positive values of $x$, the sigmoid should be close to 1, while for large\n",
    "negative values, the sigmoid should be close to 0. Evaluating `sigmoid(0)`\n",
    "should give you exactly 0.5. Your code should also work with vectors and\n",
    "matrices. **For a matrix, your function should perform the sigmoid\n",
    "function on every element.**"
   ]
  },
  {
   "cell_type": "code",
   "execution_count": 5,
   "metadata": {
    "collapsed": false
   },
   "outputs": [],
   "source": [
    "def sigmoid(z):\n",
    "    \"\"\"Computes the sigmoid fucntion\"\"\"\n",
    "    \n",
    "    # You need to return the following values correctly:\n",
    "    g = np.zeros(np.size(z))\n",
    "    \n",
    "\n",
    "    # ====================== YOUR CODE HERE ======================\n",
    "    # Instructions:\n",
    "    #     Compute the sigmoid of each value of z (z can be a matrix,\n",
    "    #     vector or scalar).\n",
    "    \n",
    "    g = 1/(1 + np.exp(-1*z))\n",
    "\n",
    "    # =============================================================\n",
    "    \n",
    "    return g"
   ]
  },
  {
   "cell_type": "markdown",
   "metadata": {},
   "source": [
    "You can submit your solution for grading by calling `submit` with\n",
    "your login e-mail and submission token. You can obtain a submission\n",
    "token from the web page for the\n",
    "assignment.\n",
    "\n",
    "We assign the login email and submission token to two variables to\n",
    "redundant typing."
   ]
  },
  {
   "cell_type": "code",
   "execution_count": 6,
   "metadata": {
    "collapsed": true
   },
   "outputs": [],
   "source": [
    "login_email = 'example@example.com'\n",
    "submission_token = 'SUBMISSIONTOKEN'"
   ]
  },
  {
   "cell_type": "code",
   "execution_count": 7,
   "metadata": {
    "collapsed": false
   },
   "outputs": [
    {
     "data": {
      "text/plain": [
       "'example@example.com successfully submitted ex2'"
      ]
     },
     "execution_count": 7,
     "metadata": {},
     "output_type": "execute_result"
    }
   ],
   "source": [
    "#You should now submit your solutions.\n",
    "submit(login_email, submission_token)"
   ]
  },
  {
   "cell_type": "markdown",
   "metadata": {},
   "source": [
    "### Cost function and gradient\n",
    "\n",
    "Now you will implement the cost function and gradient for logistic regression.\n",
    "Complete the code in `cost_function` to return the cost and gradient.\n",
    "\n",
    "Recall that the cost function in logistic regression is\n",
    "\n",
    "$$J(\\theta) = \\dfrac{1}{m} \\sum_{i = 1}^{m} \\left[-y^{(i)}\\log{(h_\\theta(x^{(i)}))} -(1-y^{(i)})\\log{(1- h_\\theta(x^{(i)}))} \\right],$$\n",
    "\n",
    "and the gradient of the cost is a vector of the same length as $\\theta$ where the $j^{\\text{th}}$ element\n",
    "(for $j = 0, 1, \\ldots , n$) is defined as follows:\n",
    "\n",
    "$$\\dfrac{\\partial J(\\theta)}{\\partial \\theta_j} = \\dfrac{1}{m} \\sum_{i = 1}^{m} (h_\\theta(x^{(i)}) - y^{(i)})x_j^{(i)}$$\n",
    "\n",
    "Note that while this gradient looks identical to the linear regression gradient,\n",
    "the formula is actually different because linear and logistic regression\n",
    "have different definitions of $h_\\theta(x)$.\n",
    "\n",
    "Once you are done, the notebook will call your `cost_function` using the initial\n",
    "parameters of $\\theta$. You should see that the cost is about 0.693.\n",
    "\n"
   ]
  },
  {
   "cell_type": "code",
   "execution_count": 8,
   "metadata": {
    "collapsed": false
   },
   "outputs": [],
   "source": [
    "def cost_function(theta, X, y):\n",
    "    \"\"\"Compute cost and gradient for logistic regression\n",
    "    \n",
    "    Computes the cost of using theta as the parameter for \n",
    "    logistic regression and the gradient of the cost w.r.t.\n",
    "    the parameters.\n",
    "    \"\"\"\n",
    "    \n",
    "    # Initialize some useful values\n",
    "    \n",
    "    # number of training examples\n",
    "    m = len(y)\n",
    "\n",
    "    # You need to return the following variables correctly \n",
    "    J = 0\n",
    "    grad = np.zeros(theta.shape)\n",
    "\n",
    "    # ====================== YOUR CODE HERE ======================\n",
    "    # Instructions:\n",
    "    #     Compute the cost of a particular choice of theta.\n",
    "    #     You should set J to the cost.\n",
    "    #     Compute the partial derivatives and set grad to the partial\n",
    "    #     derivatives of the cost w.r.t. each parameter in theta\n",
    "    #\n",
    "    # Note:\n",
    "    #     grad should have the same dimensions as theta\n",
    "    #\n",
    "    j0 = y.T.dot(np.log(sigmoid(X.dot(theta))))\n",
    "    j1 = (1 - y).T.dot(np.log(1 - sigmoid(X.dot(theta))))\n",
    "    J = (j0 + j1)*(-1)*(1.0/m)\n",
    "    grad = (1.0/m)*(X.T.dot(sigmoid(X.dot(theta)) - y))\n",
    "\n",
    "\n",
    "    # =============================================================\n",
    "    \n",
    "    return J, grad"
   ]
  },
  {
   "cell_type": "code",
   "execution_count": 9,
   "metadata": {
    "collapsed": false
   },
   "outputs": [
    {
     "name": "stdout",
     "output_type": "stream",
     "text": [
      "Cost at initial theta (zeros): [[ 0.69314718]]\n",
      "\n",
      "Gradient at initial theta (zeros):\n",
      "[[ -0.1       ]\n",
      " [-12.00921659]\n",
      " [-11.26284221]]\n"
     ]
    }
   ],
   "source": [
    "#  Setup the data matrix appropriately, and add ones for the intercept term\n",
    "m, n = X.shape\n",
    "\n",
    "# Add intercept term to x and X_test\n",
    "k = np.ones((m, n+1))\n",
    "k[:, 1:] = X\n",
    "X = k\n",
    "\n",
    "# Initialize fitting parameters\n",
    "initial_theta = np.zeros((n + 1, 1))\n",
    "\n",
    "# Compute and display initial cost and gradient\n",
    "cost, grad = cost_function(initial_theta, X, y)\n",
    "\n",
    "print('Cost at initial theta (zeros): {}\\n'.format(cost))\n",
    "print('Gradient at initial theta (zeros):')\n",
    "print('{}'.format(grad))"
   ]
  },
  {
   "cell_type": "code",
   "execution_count": 10,
   "metadata": {
    "collapsed": false
   },
   "outputs": [
    {
     "data": {
      "text/plain": [
       "'example@example.com successfully submitted ex2'"
      ]
     },
     "execution_count": 10,
     "metadata": {},
     "output_type": "execute_result"
    }
   ],
   "source": [
    "# You should now submit your solutions\n",
    "submit(login_email, submission_token)"
   ]
  },
  {
   "cell_type": "markdown",
   "metadata": {},
   "source": [
    "### Learning parameters using `fmin`\n",
    "\n",
    "In the previous assignment, you found the optimal parameters of a linear regression\n",
    "model by implementing gradent descent. You wrote a cost function\n",
    "and calculated its gradient, then took a gradient descent step accordingly.\n",
    "This time, instead of taking gradient descent steps, you will use a `scipy`\n",
    "built-in function called `fmin`.\n",
    "\n",
    "Scipy's `optimize.fmin` is an optimization solver that finds the minimum\n",
    "of an unconstrained [1] function. For logistic regression, you want to\n",
    "optimize the cost function $J(\\theta)$ with parameters $\\theta$.\n",
    "Concretely, you are going to use `fmin` to find the best parameters $\\theta$\n",
    "for the logistic regression cost function, given a fixed dataset (of X and y\n",
    "values). You will pass to `fmin` the following inputs:\n",
    "\n",
    "* The initial values of the parameters we are trying to optimize.\n",
    "* A function that, when given the training set and a particular $\\theta$, computes\n",
    "    the logistic regression cost with respect to $\\theta$ for the dataset\n",
    "    $(X, y)$\n",
    "    \n",
    "In the next cell, we have written code to call `fmin` with the correct arguments.\n",
    "\n",
    "```python\n",
    "    # Set options for fmin\n",
    "    options = {'full_output': True, 'maxiter': 400}\n",
    "    \n",
    "    # Run fminunc to obtain the optimal theta\n",
    "    # This function will return theta and the cost\n",
    "    # (we ignore the other values returned by the function)\n",
    "    theta, cost, _, _, _ = optimize.fmin(lambda t: cost_function(t, X, y)[0], initial_theta, **options)\n",
    "```\n",
    "\n",
    "In this code snippet, we first defined the options to be used with `fmin`.\n",
    "We set the `maxiter` option to 400, so that `fmin` will run for at most 400 steps before\n",
    "it terminates.\n",
    "\n",
    "To specify the actual function we are minimizing, we use the \"short-hand\"\n",
    "lambda notation for specifying functions with the\n",
    "```python\n",
    "    lambda t: cost_function(t, X, y)[0]\n",
    "```\n",
    "This creates a function, with argument t, which calls your `cost_function`. This\n",
    "allows us to wrap the `cost_function` for use with `fmin`.\n",
    "\n",
    "If you have completed the `cost_function` correctly, `fmin` will converge\n",
    "on the right optimization parameters and return the final values of the cost\n",
    "and $\\theta$. Notice that by using `fmin`, you did not have to write any loops\n",
    "yourself, or set a learning rate like you did for gradient descent. This is all\n",
    "done by `fmin`: you only needed to provide a function calculating the cost\n",
    "and the gradient.\n",
    "\n",
    "Once `fmin` completes, we will call your `cost_function` function\n",
    "using the optimal parameters of `theta`. You should see that the cost is about\n",
    "0.203.\n",
    "\n",
    "> [**1**]\n",
    "> Constraints in optimization often refer to constraints on the parameters, for example,\n",
    "> constraints that bound the possible values $\\theta$ can take (e.g., $\\theta \\leq 1$). Logistic regression\n",
    "> does not have such constraints since $\\theta$ is allowed to take any real value."
   ]
  },
  {
   "cell_type": "code",
   "execution_count": 11,
   "metadata": {
    "collapsed": false
   },
   "outputs": [
    {
     "name": "stdout",
     "output_type": "stream",
     "text": [
      "Optimization terminated successfully.\n",
      "         Current function value: 0.203498\n",
      "         Iterations: 157\n",
      "         Function evaluations: 287\n",
      "\n",
      "\n",
      "Cost at theta found by fmin: 0.20349770159\n",
      "theta: [-25.16130062   0.20623142   0.20147143]\n"
     ]
    }
   ],
   "source": [
    "# Set options for fmin\n",
    "options = {'full_output': True, 'maxiter': 400}\n",
    "\n",
    "# Run fminunc to obtain the optimal theta\n",
    "# This function will return theta and the cost\n",
    "# (we ignore the other values returned by the function)\n",
    "theta, cost, _, _, _ = optimize.fmin(lambda t: cost_function(t, X, y)[0], initial_theta, **options)\n",
    "\n",
    "# Print theta to screen\n",
    "print('\\n')\n",
    "print('Cost at theta found by fmin: {}'.format(cost))\n",
    "print('theta: {}'.format(theta))"
   ]
  },
  {
   "cell_type": "markdown",
   "metadata": {},
   "source": [
    "This final $\\theta$ value will then be used to plot the decision boundary on the\n",
    "training data, resulting in a figure similar to Figure 2. We also encourage\n",
    "you to look at the code in `plot_decision_boundary` to see how to plot such\n",
    "a boundary using the $\\theta$ values.\n",
    "\n",
    "<center>\n",
    "    <img src='./figs/ex2_fig2.png'>\n",
    "    Figure 2:  Training data with decision boundary\n",
    "</center>"
   ]
  },
  {
   "cell_type": "code",
   "execution_count": 12,
   "metadata": {
    "collapsed": true
   },
   "outputs": [],
   "source": [
    "def map_feature(X1, X2):\n",
    "    \"\"\"\n",
    "    Feature mappring function to polynomial features\n",
    "    \n",
    "    Maps the two input features to quadratic features used in the\n",
    "    regularization exercise.\n",
    "    \n",
    "    Returns a new feature array with more features comprising of\n",
    "    X1, X2, X1**2, X2**2, X1*X2, X1*(X2**2), etc...\n",
    "    \n",
    "    Inputs X1 and X2 must be the same size.\n",
    "    \"\"\"\n",
    "    \n",
    "    degree = 6\n",
    "    out = np.ones(np.size(X1[:, 0]))\n",
    "    for i in range(degree):\n",
    "        for j in range(i):\n",
    "            out[:, -1] = (X1**(i-j))*(X2**j)\n",
    "    return out\n",
    "\n",
    "def plot_decision_boundary(theta, X, y):\n",
    "    \"\"\"\n",
    "    Plots the data points X and y into a new figure with\n",
    "    the decision boundary defined with theta.\n",
    "    \n",
    "    Plots the data points with + for the positive examples\n",
    "    and o for the negative examples. X is assumed to be a \n",
    "    either\n",
    "        1. Mx3 matrix, where the first column is all-ones\n",
    "        column for the intercept.\n",
    "        2. MxN, N>3 matrix, where the first column is\n",
    "        all-ones.\n",
    "    \"\"\"\n",
    "    \n",
    "    # Plot data\n",
    "    plot_data(X[:, 1:3], y)\n",
    "    \n",
    "    if X.shape[1] <= 3:\n",
    "        # only need two points to define a line, so choose two endpoints\n",
    "        plot_x = np.array([min(X[:, 1])-2, max(X[:, 1])+2])\n",
    "        \n",
    "        # calculate the decision boundary line\n",
    "        plot_y = (-1.0/theta[2])*(theta[1]*plot_x + theta[0])\n",
    "        \n",
    "        # plot and adjust axes for better viewing\n",
    "        plt.plot(plot_x, plot_y)\n",
    "        \n",
    "        # exercise specific legend\n",
    "        plt.legend(['Admitted', 'Not admitted', 'Decision Boundary'])\n",
    "        plt.axis([30, 100, 30, 100])\n",
    "    \n",
    "    else:\n",
    "        u = np.linspace(-1, 1.5, 50)\n",
    "        v = np.linspace(-1, 1.5, 50)\n",
    "        \n",
    "        z = np.zeros((len(u), len(v)))\n",
    "        \n",
    "        for i, ui in enumerate(u):\n",
    "            for j, vi in enumerate(v):\n",
    "                z[i, j] = map_feature(ui, vi)*theta\n",
    "                \n",
    "        z = z.T\n",
    "        \n",
    "        # plot z = 0\n",
    "        plt.contour(u, v, z, [0, 0], linewidth=2)"
   ]
  },
  {
   "cell_type": "code",
   "execution_count": 13,
   "metadata": {
    "collapsed": false
   },
   "outputs": [
    {
     "data": {
      "text/plain": [
       "<matplotlib.legend.Legend at 0x7fce1d9253d0>"
      ]
     },
     "execution_count": 13,
     "metadata": {},
     "output_type": "execute_result"
    },
    {
     "data": {
      "image/png": "[encoded data removed]",
      "text/plain": [
       "<matplotlib.figure.Figure at 0x7fce1d918310>"
      ]
     },
     "metadata": {},
     "output_type": "display_data"
    }
   ],
   "source": [
    "# Plot Boundary\n",
    "plt.figure(figsize=(8, 6))\n",
    "plot_decision_boundary(theta, X, y)\n",
    "\n",
    "# Put some labels \n",
    "plt.xlabel('Exam 1 score')\n",
    "plt.ylabel('Exam 2 score')\n",
    "\n",
    "# Specified in plot order\n",
    "plt.legend(['Admitted', 'Not admitted'])\n",
    "# plt.savefig('./figs/ex2_fig2.png')"
   ]
  },
  {
   "cell_type": "markdown",
   "metadata": {},
   "source": [
    "### Evaluating logistic regression\n",
    "\n",
    "After learning the parameters, you can use the model to predict whether a\n",
    "particular student will be admitted. For a student with an Exam 1 score\n",
    "of 45 and an Exam 2 score of 85, you should expect to see an admission\n",
    "probability of 0.776.\n",
    "\n",
    "Another way to evaluate the quality of the parameters we have found\n",
    "is to see how well the learned model predicts on our training set. In this\n",
    "part, your task is to complete the code in `predict`. The predict function\n",
    "will produce \"1\" or \"0\" predictions given a dataset and a learned parameter\n",
    "vector $\\theta$.\n",
    "\n",
    "After you have completed the code in `predict`, the notebook will\n",
    "proceed to report the training accuracy of your classifier by computing the\n",
    "percentage of examples it got correct."
   ]
  },
  {
   "cell_type": "code",
   "execution_count": 14,
   "metadata": {
    "collapsed": true
   },
   "outputs": [],
   "source": [
    "def predict(theta, X):\n",
    "    \"\"\"\n",
    "    Predict whether the label is 0 or 1 using the learned logistic\n",
    "    regression parametres theta.\n",
    "    \n",
    "    Computes the predictions for X using a threshold at 0.5 (i.e.,\n",
    "    if sigmoid(theta.T.dot(x)) >= 0.5, predict 1)\n",
    "    \"\"\"\n",
    "    \n",
    "    # number of training examples\n",
    "    m = X.shape[0]\n",
    "    \n",
    "    # you need to return the following values correctly\n",
    "    p = np.zeros((m, 1))\n",
    "\n",
    "    # ====================== YOUR CODE HERE ======================\n",
    "    # Instructions:\n",
    "    #     Complete the following code to make predictions using\n",
    "    #     your learned logistic regression parameters. \n",
    "    #     You should set p to a vector of 0's and 1's\n",
    "\n",
    "    p = np.round(sigmoid(X.dot(theta)))\n",
    "\n",
    "    # ============================================================\n",
    "    \n",
    "    return p.reshape(m, 1)"
   ]
  },
  {
   "cell_type": "code",
   "execution_count": 15,
   "metadata": {
    "collapsed": false
   },
   "outputs": [
    {
     "name": "stdout",
     "output_type": "stream",
     "text": [
      "For a student with score 45 and 85, we predict an admission probability of 0.776291590411\n",
      "Train Accuracy: 89.0\n"
     ]
    }
   ],
   "source": [
    "#  After learning the parameters, you'll like to use it to predict the outcomes\n",
    "#  on unseen data. In this part, you will use the logistic regression model\n",
    "#  to predict the probability that a student with score 45 on exam 1 and \n",
    "#  score 85 on exam 2 will be admitted.\n",
    "#\n",
    "#  Furthermore, you will compute the training and test set accuracies of \n",
    "#  our model.\n",
    "\n",
    "\n",
    "#  Predict probability for a student with score 45 on exam 1 \n",
    "#  and score 85 on exam 2 \n",
    "prob = sigmoid(np.array([1, 45, 85]).dot(theta))\n",
    "print('For a student with score 45 and 85, we predict an admission probability of {}'.format(prob))\n",
    "\n",
    "\n",
    "# Compute accuracy on our training set\n",
    "p = predict(theta, X)\n",
    "print('Train Accuracy: {}'.format(np.mean(np.double(p == y)*100)))"
   ]
  },
  {
   "cell_type": "code",
   "execution_count": 16,
   "metadata": {
    "collapsed": false
   },
   "outputs": [
    {
     "data": {
      "text/plain": [
       "'example@example.com successfully submitted ex2'"
      ]
     },
     "execution_count": 16,
     "metadata": {},
     "output_type": "execute_result"
    }
   ],
   "source": [
    "# You should now submit your solutions\n",
    "submit(login_email, submission_token)"
   ]
  }
 ],
 "metadata": {
  "kernelspec": {
   "display_name": "Python [Root]",
   "language": "python",
   "name": "Python [Root]"
  },
  "language_info": {
   "codemirror_mode": {
    "name": "ipython",
    "version": 2
   },
   "file_extension": ".py",
   "mimetype": "text/x-python",
   "name": "python",
   "nbconvert_exporter": "python",
   "pygments_lexer": "ipython2",
   "version": "2.7.12"
  }
 },
 "nbformat": 4,
 "nbformat_minor": 0
}
