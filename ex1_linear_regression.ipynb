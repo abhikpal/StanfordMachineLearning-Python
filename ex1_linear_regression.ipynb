{
 "cells": [
  {
   "cell_type": "markdown",
   "metadata": {},
   "source": [
    "<center>\n",
    "<h1>Programming Exercise 1:<br>Linear Regression<br></h1>\n",
    "<h2>Machine Learning<br></h2>\n",
    "</center>"
   ]
  },
  {
   "cell_type": "markdown",
   "metadata": {},
   "source": [
    "# Introduction\n",
    "\n",
    "In this exercise, you will implement linear regression and get to see it work\n",
    "on data. Before starting on this programming exercise, we strongly recommend\n",
    "watching the video lectures and completing the review questions for\n",
    "the associated topics.\n",
    "\n",
    "For this programming exercise, you are only required to complete the first\n",
    "part of the exercise to implement linear regression with one variable. The\n",
    "second part of the exercise, which is optional, covers linear regression with\n",
    "multiple variables."
   ]
  },
  {
   "cell_type": "code",
   "execution_count": null,
   "metadata": {
    "collapsed": false
   },
   "outputs": [],
   "source": [
    "# Import the required libraries.\n",
    "import matplotlib.pyplot as plt\n",
    "import numpy as np\n",
    "import pandas as pd\n",
    "\n",
    "from mpl_toolkits.mplot3d import Axes3D\n",
    "\n",
    "import mlcourse.submission\n",
    "\n",
    "submit = mlcourse.submission.create_submission('ex1')\n",
    "\n",
    "%matplotlib inline"
   ]
  },
  {
   "cell_type": "markdown",
   "metadata": {},
   "source": [
    "# Basic Function\n",
    "\n",
    "The first part of this exercise gives you practice with Python syntax and\n",
    "the homework submission process. In the following function `warmUpExercise()`,\n",
    "you will find the outline of a Python function. Modify it to return a 5 x\n",
    "5 identity matrix by filling in the following code:\n",
    "\n",
    "`A = np.eye(5)`\n",
    "\n",
    "When you are finished, run the cell by pressing `Ctrl+Enter` and you should see\n",
    "output similar to the following:\n",
    "\n",
    "```\n",
    "array([[ 1.,  0.,  0.,  0.,  0.],\n",
    "       [ 0.,  1.,  0.,  0.,  0.],\n",
    "       [ 0.,  0.,  1.,  0.,  0.],\n",
    "       [ 0.,  0.,  0.,  1.,  0.],\n",
    "       [ 0.,  0.,  0.,  0.,  1.]])\n",
    "```\n"
   ]
  },
  {
   "cell_type": "code",
   "execution_count": null,
   "metadata": {
    "collapsed": false
   },
   "outputs": [],
   "source": [
    "def warm_up_exercise():\n",
    "    \"\"\"\n",
    "    Example function in Python that returns a 5x5 identity matrix.\n",
    "    \"\"\"\n",
    "    \n",
    "    # ============= YOUR CODE HERE ==============\n",
    "    # Instructions:\n",
    "    #     Return the 5x5 identity matrix.\n",
    "    #     In Python we return values using the `return` keyword\n",
    "    #     followed by the value to be retured.\n",
    "    \n",
    "    # You need to set A to the required value.\n",
    "    A = \n",
    "    \n",
    "    # ===========================================\n",
    "    \n",
    "    return A\n",
    "\n",
    "\n",
    "print('Running warm_up_exercise() ...')\n",
    "print('5x5 Identity Matrix:')\n",
    "warm_up_exercise()"
   ]
  },
  {
   "cell_type": "markdown",
   "metadata": {},
   "source": [
    "## Submitting Solutions\n",
    "After completing a part of the exercise, you can submit your solutions for\n",
    "grading by calling the `submit()` function. You need to pass your login email\n",
    "and submission token as strings to the submit function. You can obtain a submission\n",
    "token from the web page for the assignment.\n",
    "\n",
    "We have assigned your login email and submission token to variables to avoid typing\n",
    "them everytime."
   ]
  },
  {
   "cell_type": "code",
   "execution_count": null,
   "metadata": {
    "collapsed": false
   },
   "outputs": [],
   "source": [
    "login_email = 'email@example.com'\n",
    "submission_token = 'SUBMISSIONTOKEN'"
   ]
  },
  {
   "cell_type": "markdown",
   "metadata": {},
   "source": [
    "*You should now submit your solutions*\n",
    "\n",
    "You are allowed to submit your solutions multiple times, and we will take\n",
    "only the highest score into consideration."
   ]
  },
  {
   "cell_type": "code",
   "execution_count": null,
   "metadata": {
    "collapsed": false
   },
   "outputs": [],
   "source": [
    "submit(login_email, submission_token)"
   ]
  },
  {
   "cell_type": "markdown",
   "metadata": {},
   "source": [
    "# Linear Regression With One Variable\n",
    "\n",
    "In this part of this exercise, you will implement linear regression with one\n",
    "variable to predict profits for a food truck. Suppose you are the CEO of a\n",
    "restaurant franchise and are considering different cities for opening a new\n",
    "outlet. The chain already has trucks in various cities and you have data for\n",
    "profits and populations from the cities.\n",
    "\n",
    "You would like to use this data to help you select which city to expand\n",
    "to next.\n",
    "\n",
    "The file `ex1data1.csv` contains the dataset for our linear regression problem.\n",
    "The first column is the population of a city and the second column is\n",
    "the profit of a food truck in that city. A negative value for profit indicates a\n",
    "loss.\n",
    "\n",
    "The following cells will load this data for you.\n"
   ]
  },
  {
   "cell_type": "code",
   "execution_count": null,
   "metadata": {
    "collapsed": false
   },
   "outputs": [],
   "source": [
    "# read comma separated data\n",
    "data = pd.read_csv('./data/ex1/ex1data1.csv', header=None)\n",
    "\n",
    "X = np.matrix([data[0]]).T\n",
    "y = np.matrix([data[1]]).T\n",
    "\n",
    "# number of training examples\n",
    "m = y.size"
   ]
  },
  {
   "cell_type": "markdown",
   "metadata": {},
   "source": [
    "## Plotting the Data\n",
    "\n",
    "Before starting on any task, it is often useful to understand the data by\n",
    "visualizing it. For this dataset, you can use a scatter plot to visualize the\n",
    "data, since it has only two properties to plot (profit and population). (Many\n",
    "other problems that you will encounter in real life are multi-dimensional and\n",
    "can’t be plotted on a 2-d plot.)\n",
    "\n",
    "In the last cell the data is loaded from the data file into the variables\n",
    "`X` and `y`.\n",
    "\n",
    "The notebook calls the `plot_data()` function to create a scatter plot of\n",
    "the data. Your job is to complete plot_data to draw the plot; modify the\n",
    "next cell and fill in the following code:\n",
    "\n",
    "```python\n",
    "    plt.plot(x, y, 'rx', markersize=12)\n",
    "    plt.ylabel('Profit in $10,000s')\n",
    "    plt.xlabel('Population of City in 10,000s')\n",
    "```\n",
    "\n"
   ]
  },
  {
   "cell_type": "code",
   "execution_count": null,
   "metadata": {
    "collapsed": false
   },
   "outputs": [],
   "source": [
    "def plot_data(x, y):\n",
    "    \"\"\"\n",
    "    Plots the data points `x` and `y` into a new figure.\n",
    "    \n",
    "    plot_data(x, y) plots the data points and gives the figure \n",
    "    axes labels of population and profit.\n",
    "    \"\"\"\n",
    "    \n",
    "    # ====================== YOUR CODE HERE ======================\n",
    "    # Instructions:\n",
    "    #     Plot the training data into a figure using the  \n",
    "    #     plt.figure() and plt.plot() commands. Set the axes \n",
    "    #     labels using the plt.xlabel() and plt.ylabel commands.\n",
    "    #     Assume the population and revenue data have been \n",
    "    #     passed in as the x and y arguments of this function.\n",
    "    #\n",
    "    # Hint:\n",
    "    #     You can use the 'rx' option with plt.plot() to have\n",
    "    #     the markers appear as red crosses. Furthermore, you can\n",
    "    #     make the markers larger by using \n",
    "    #         plt.plot(..., 'rx', markersize=12)\n",
    "    \n",
    "    \n",
    "\n",
    "    # ============================================================"
   ]
  },
  {
   "cell_type": "markdown",
   "metadata": {},
   "source": [
    "Now, when you run the next cell, our end result should look like\n",
    "Figure 1, with the same red `x` markers and axis labels.\n",
    "\n",
    "To learn more about the `plt.plot()` command, you can type `help(plt.plot)`\n",
    "at the Python interpreter or to search online for plotting documentation.\n",
    "(To change the markers to red `x`, we used the option `rx`\n",
    "together with the `plot` command, i.e.,\n",
    "```plt.plot(..,[your options here],..,'rx')``` )\n",
    "\n",
    "<center>\n",
    "    <img src='./figs/ex1_fig1.png'>\n",
    "    Figure 1:  Scatter plot of training data\n",
    "</center>"
   ]
  },
  {
   "cell_type": "code",
   "execution_count": null,
   "metadata": {
    "collapsed": false
   },
   "outputs": [],
   "source": [
    "print('Plotting Data ...')\n",
    "\n",
    "# Plot Data\n",
    "# Note: You have to complete the code in plotData()\n",
    "\n",
    "# create a new figure window\n",
    "plt.figure(figsize=(8, 6))\n",
    "plot_data(X, y)"
   ]
  },
  {
   "cell_type": "markdown",
   "metadata": {},
   "source": [
    "## Gradient Descent\n",
    "\n",
    "In this part, you will fit the linear regression parameters $\\theta$ to our dataset\n",
    "using gradient descent."
   ]
  },
  {
   "cell_type": "markdown",
   "metadata": {},
   "source": [
    "### Update Equations\n",
    "The objective of linear regression is to minimize the cost function\n",
    "\n",
    "$$ J(\\theta) = \\dfrac{1}{2m}\\sum_{i = 1}^m(h_\\theta(x^{(i)}) - y^{(i)})^2 $$\n",
    "\n",
    "where the hypothesis $h_\\theta(x)$ is given by the linear model\n",
    "\n",
    "$$ h_\\theta(x) = \\theta^Tx = \\theta_0 + \\theta_1x_1$$\n",
    "\n",
    "Recall that the parameters of your model are the $\\theta_j$ values. These are\n",
    "the values you will adjust to minimize cost $J(\\theta)$. One way to do this is to\n",
    "use the batch gradient descent algorithm. In batch gradient descent, each\n",
    "iteration performs the update\n",
    "\n",
    "$$ \\theta_j := \\theta_j - \\alpha \\dfrac{1}{m}\\sum_{i = 1}^m(h_\\theta(x^{(i)}) - y^{(i)})x_{j}^{(i)} $$\n",
    "\n",
    "(simultaneously update $\\theta_j$ for all $j$).\n",
    "\n",
    "With each step of gradient descent, your parameters $\\theta_j$ come closer to the\n",
    "optimal values that will achieve the lowest cost $J(\\theta)$.\n",
    "\n",
    "> **Implementation Note:**\n",
    "> We store each example as a row in the the `X` matrix.\n",
    "> To take into account the intercept term ($\\theta_0$),\n",
    "> we add an additional first column to `X` and set it to\n",
    "> all ones. This allows us to treat $\\theta_0$ as simply\n",
    "> another 'feature'\n"
   ]
  },
  {
   "cell_type": "markdown",
   "metadata": {},
   "source": [
    "### Implementation\n",
    "\n",
    "Here we set up the data for linear regression. In the following lines,\n",
    "we add another dimension to our data to accommodate the $\\theta_0$\n",
    "intercept term. We also initialize the initial parameters to $0$ and the\n",
    "learning rate `alpha` to $0.01$."
   ]
  },
  {
   "cell_type": "code",
   "execution_count": null,
   "metadata": {
    "collapsed": false
   },
   "outputs": [],
   "source": [
    "# Add a column of ones to X\n",
    "X = np.matrix([np.ones((m)), np.array(data[0])]).T\n",
    "\n",
    "# initialize fitting parameters\n",
    "theta = np.matrix(np.zeros((2, 1)))\n",
    "\n",
    "# Some gradient descent settings\n",
    "iterations = 1500\n",
    "alpha = 0.01\n"
   ]
  },
  {
   "cell_type": "markdown",
   "metadata": {},
   "source": [
    "### Computing the cost $J(\\theta)$\n",
    "\n",
    "As you perform gradient descent to learn minimize the cost function $J(\\theta)$,\n",
    "it is helpful to monitor the convergence by computing the cost. In this\n",
    "section, you will implement a function to calculate $J(\\theta)$ so you can check the\n",
    "convergence of your gradient descent implementation.\n",
    "\n",
    "Your next task is to complete the code in `compute_cost`, which\n",
    "is a function that computes $J(\\theta)$. As you are doing this, remember that the\n",
    "variables `X` and `y` are not scalar values, but matrices whose rows represent\n",
    "the examples from the training set.\n",
    "\n",
    "Once you have completed the function, the next cell will run\n",
    "`compute_cost` once using $\\theta$ initialized to zeros, and you will see the cost\n",
    "printed to the screen.\n",
    "\n",
    "You should expect to see a cost of $32.07$.\n"
   ]
  },
  {
   "cell_type": "code",
   "execution_count": null,
   "metadata": {
    "collapsed": false
   },
   "outputs": [],
   "source": [
    "def compute_cost(X, y, theta):\n",
    "    \"\"\"Compute cost for linear regression.\n",
    "    \n",
    "    Computes the cost of using theta as the parameter for linear\n",
    "    regression to fit the data points in X and y\n",
    "    \"\"\"\n",
    "    \n",
    "    # initialize some useful values\n",
    "    m = y.size\n",
    "    \n",
    "    # You need to return the following values correctly\n",
    "    J = 0\n",
    "    \n",
    "    # ====================== YOUR CODE HERE ======================\n",
    "    # Instructions:\n",
    "    #     Compute the cost of a particular choice of theta\n",
    "    #     You should set J to the cost.\n",
    "    \n",
    "    \n",
    "    \n",
    "    # ============================================================\n",
    "    \n",
    "    return J\n",
    "\n",
    "# compute and display initial cost\n",
    "J = compute_cost(X, y, theta)\n",
    "\n",
    "print('J = {}'.format(J))"
   ]
  },
  {
   "cell_type": "code",
   "execution_count": null,
   "metadata": {
    "collapsed": false,
    "scrolled": false
   },
   "outputs": [],
   "source": [
    "# You should now submit your solutions\n",
    "submit(login_email, submission_token)"
   ]
  },
  {
   "cell_type": "markdown",
   "metadata": {},
   "source": [
    "### Gradient descent\n",
    "\n",
    "Next, you will implement gradient descent in `gradient_descent()`.\n",
    "The loop structure has been written for you, and you only need to supply\n",
    "the updates to $\\theta$ within each iteration.\n",
    "\n",
    "As you program, make sure you understand what you are trying to optimize\n",
    "and what is being updated. Keep in mind that the cost $J(\\theta)$ is parameterized\n",
    "by the vector $\\theta$, not `X` and `y`. That is, we minimize the value of $J(\\theta)$\n",
    "by changing the values of the vector $\\theta$, not by changing `X` or `y`. Refer to the\n",
    "equations in this notebook and to the video lectures if you are uncertain.\n",
    "\n",
    "A good way to verify that gradient descent is working correctly is to look\n",
    "at the value of $J(\\theta)$ and check that it is decreasing with each step. The\n",
    "starter code for `gradient_descent()` calls `compute_cost()` on every iteration\n",
    "and prints the cost. Assuming you have implemented gradient descent and\n",
    "`compute_cost` correctly, your value of $J(\\theta)$ should never increase, and should\n",
    "converge to a steady value by the end of the algorithm.\n",
    "\n",
    "After you are finished, we will use your final parameters to plot the\n",
    "linear fit.\n",
    "\n",
    "The result should look something like Figure 2:\n",
    "\n",
    "<center>\n",
    "<img src='./figs/ex1_fig2.png'>\n",
    "Figure 2: Training Data with Regression Fit\n",
    "</center>\n",
    "\n",
    "    \n",
    "Your final values for $\\theta$ will also be used to make predictions on profits in\n",
    "areas of $35,000$ and $70,000$ people. Note the way that the following lines in\n",
    "use matrix multiplication, rather than explicit summation or looping,\n",
    "to calculate the predictions. This is an example of code vectorization.\n"
   ]
  },
  {
   "cell_type": "code",
   "execution_count": null,
   "metadata": {
    "collapsed": false
   },
   "outputs": [],
   "source": [
    "def gradient_descent(X, y, theta, alpha, num_iters):\n",
    "    \"\"\"Performs gradient descent to learn theta.\n",
    "    \n",
    "    `gradient_descent` updates theta by taking `num_iters` steps with\n",
    "    learning rate `alpha`\n",
    "    \"\"\"\n",
    "    \n",
    "    # Initialize some useful values\n",
    "    \n",
    "    # number of training examples\n",
    "    m = y.size\n",
    "    \n",
    "    J_history = np.zeros(num_iters)\n",
    "    \n",
    "    for i in range(num_iters):\n",
    "        # ====================== YOUR CODE HERE ======================\n",
    "        # Instructions:\n",
    "        #     Perform a single gradient step on the parameter vector\n",
    "        #     theta. \n",
    "        #\n",
    "        # Hint:\n",
    "        #     While debugging, it can be useful to print out the values\n",
    "        #     of the cost function (compute_cost) and gradient here.\n",
    "        #\n",
    "        \n",
    "        \n",
    "\n",
    "        # ============================================================\n",
    "\n",
    "        # Save the cost J in every iteration    \n",
    "        J_history[i] = compute_cost(X, y, theta)\n",
    "        \n",
    "        ## print out the cost (for debugging)\n",
    "        # print('Cost on iteration {} = {}'.format(i, J_history[i]))\n",
    "        \n",
    "    return theta, J_history"
   ]
  },
  {
   "cell_type": "code",
   "execution_count": null,
   "metadata": {
    "collapsed": false,
    "scrolled": false
   },
   "outputs": [],
   "source": [
    "theta, J_history = gradient_descent(X, y, theta, alpha, iterations)\n",
    "\n",
    "# % print theta to screen\n",
    "print('Theta found by gradient descent: {}, {}'.format(theta[0], theta[1]))\n",
    "\n",
    "plt.figure(figsize=(8, 6))\n",
    "plot_data(data[0], data[1])\n",
    "plt.plot(X[:, 1], X.dot(theta), 'b-', )\n",
    "plt.legend(['Training Data', 'Linear Rgression'])"
   ]
  },
  {
   "cell_type": "code",
   "execution_count": null,
   "metadata": {
    "collapsed": false
   },
   "outputs": [],
   "source": [
    "# Predict values for population sizes of 35,000 and 70,000\n",
    "predict1 = np.array([1, 3.5]).dot(theta)\n",
    "print('For population = 35,000, we predict a profit of {}'.format(predict1.item(0)*10000))\n",
    "\n",
    "predict2 = np.array([1, 7]).dot(theta)\n",
    "print('For population = 70,000, we predict a profit of {}'.format(predict2.item(0)*10000))"
   ]
  },
  {
   "cell_type": "code",
   "execution_count": null,
   "metadata": {
    "collapsed": false
   },
   "outputs": [],
   "source": [
    "# You should now submit your solutions\n",
    "submit(login_email, submission_token)"
   ]
  },
  {
   "cell_type": "markdown",
   "metadata": {},
   "source": [
    "## Debugging\n",
    "\n",
    "Here are some things to keep in mind as you implement gradient descent:\n",
    "\n",
    "* If you are seeing many errors at runtime, inspect your matrix operations\n",
    "    to make sure that you're adding and multiplying matrices of compatible\n",
    "    dimensions. Printing the dimensions of variables with the size\n",
    "    command will help you debug.\n",
    "* By default, `numpy.matrix` math operators are matrix\n",
    "    operators. This is a common source of size incompatibility errors. If you\n",
    "    want matrix multiplication, you need to use the `*` operator\n",
    "    to specify this to Python. For example, `np.multiply(A, B)` does an element wise\n",
    "    mulitplication, while `A * B` performs a matrix multiplication when \n",
    "    `A` and `B` are numpy matrices."
   ]
  },
  {
   "cell_type": "markdown",
   "metadata": {},
   "source": [
    "## Visualizing $J(\\theta)$\n",
    "\n",
    "To understand the cost function $J(\\theta)$ better, you will now plot the cost over\n",
    "a 2-dimensional grid of $\\theta_0$ and $\\theta_1$ values. You will not need to code anything\n",
    "new for this part, but you should understand how the code you have written\n",
    "already is creating these images.\n",
    "\n",
    "In the next step, there is code set up to calculate $J(\\theta)$ over a\n",
    "grid of values using the compute_cost function that you wrote.\n",
    "\n",
    "\n",
    "```python\n",
    "    for i in range(len(theta0_vals)):\n",
    "        for j in range(len(theta1_vals)):\n",
    "            t = np.array(theta1_vals[i], theta1_vals[j])\n",
    "            J_vals[i, j] = compute_cost(X, y, t)\n",
    "```\n",
    "\n",
    "After these lines are executed, you will have a 2-D array of $J(\\theta)$ values.\n",
    "The notebook will then use these values to produce surface and contour\n",
    "plots of $J(\\theta)$ using the surf and contour commands. The plots should look\n",
    "something like Figure 3:\n",
    "\n",
    "<center>\n",
    "<img src='./figs/ex1_fig3.png'>\n",
    "Figure 3: Cost function $J(\\theta)$. Surface plot (left) and contour plot showing the minimum (right)\n",
    "</center>\n"
   ]
  },
  {
   "cell_type": "code",
   "execution_count": null,
   "metadata": {
    "collapsed": false
   },
   "outputs": [],
   "source": [
    "print('Visualizing J(theta_0, theta_1) ...')\n",
    "\n",
    "# Grid over which we will calculate J\n",
    "theta0_vals = np.linspace(-10, 10, 100)\n",
    "theta1_vals = np.linspace(-1, 4, 100)\n",
    "\n",
    "# initialize J_vals to a matrix of 0's\n",
    "J_vals = np.zeros((len(theta0_vals), len(theta1_vals)))\n",
    "\n",
    "# Fill out J_vals\n",
    "for i in range(len(theta0_vals)):\n",
    "    for j in range(len(theta1_vals)):\n",
    "        t = np.array([[theta0_vals[i]], [theta1_vals[j]]])\n",
    "        J_vals[j][i] = compute_cost(X, y, t)\n",
    "                \n",
    "\n",
    "# Surface Plot\n",
    "fig = plt.figure(figsize=(16, 6))\n",
    "\n",
    "ax = fig.add_subplot(1, 2, 1, projection='3d')\n",
    "theta0, theta1 = np.meshgrid(theta0_vals, theta1_vals)\n",
    "ax.plot_surface(theta1, theta0, J_vals.T, rstride=2, cstride=2, cmap='jet')\n",
    "ax.invert_xaxis()\n",
    "plt.xlabel('$\\\\theta_1$')\n",
    "plt.ylabel('$\\\\theta_0$')\n",
    "\n",
    "# Contour Plot\n",
    "ax = fig.add_subplot(1, 2, 2)\n",
    "\n",
    "# Plot J_vals as 15 contours spaced logarithmically between 0.01 and 100\n",
    "ax.contour(theta0_vals, theta1_vals, J_vals, 15, levels=np.logspace(-2, 3, 20))\n",
    "ax.plot(theta[0], theta[1], 'rx', markersize=12, linewidth=2)\n",
    "plt.xlabel('$\\\\theta_0$')\n",
    "plt.ylabel('$\\\\theta_1$')"
   ]
  },
  {
   "cell_type": "markdown",
   "metadata": {},
   "source": [
    "---"
   ]
  },
  {
   "cell_type": "markdown",
   "metadata": {},
   "source": [
    "# Optional Exercises\n",
    "If you have successfully completed the material above, congratulations! You\n",
    "now understand linear regression and should able to start using it on your\n",
    "own datasets.\n",
    "\n",
    "For the rest of this programming exercise, we have included the following\n",
    "optional exercises. These exercises will help you gain a deeper understanding\n",
    "of the material, and if you are able to do so, we encourage you to complete\n",
    "them as well."
   ]
  },
  {
   "cell_type": "markdown",
   "metadata": {},
   "source": [
    "# Linear regression with multiple variables\n",
    "\n",
    "In this part, you will implement linear regression with multiple variables to\n",
    "predict the prices of houses. Suppose you are selling your house and you\n",
    "want to know what a good market price would be. One way to do this is to\n",
    "first collect information on recent houses sold and make a model of housing\n",
    "prices.\n",
    "\n",
    "The file `ex1data2.txt` contains a training set of housing prices in Portland,\n",
    "Oregon. The first column is the size of the house (in square feet), the\n",
    "second column is the number of bedrooms, and the third column is the price\n",
    "of the house.\n",
    "\n",
    "The following cells have been set up to help you step through this\n",
    "exercise."
   ]
  },
  {
   "cell_type": "code",
   "execution_count": null,
   "metadata": {
    "collapsed": false
   },
   "outputs": [],
   "source": [
    "print('Loading data ...\\n');\n",
    "\n",
    "# read comma separated data\n",
    "data = pd.read_csv('./data/ex1/ex1data2.csv', header=None)\n",
    "\n",
    "X = np.matrix([data[0], data[1]]).T\n",
    "y = np.matrix([data[2]]).T\n",
    "\n",
    "# number of training examples\n",
    "m = y.size\n",
    "\n",
    "# Print out some data points\n",
    "print('First 10 examples from the dataset:')\n",
    "for i in range(10):\n",
    "    print('x = {}, y = {}'.format(X[i], y[i]))"
   ]
  },
  {
   "cell_type": "markdown",
   "metadata": {},
   "source": [
    "## Feature Normalization\n",
    "The last cell loaded and displayed some values from the dataset.\n",
    "By looking at the values, note that house sizes are about\n",
    "1000 times the number of bedrooms. When features differ by orders of magnitude,\n",
    "first performing feature scaling can make gradient descent converge\n",
    "much more quickly.\n",
    "\n",
    "Your task here is to complete the code in `feature_normalize()` to\n",
    "* Subtract the mean value of each feature from the dataset.\n",
    "* After subtracting the mean, additionally scale (divide) the feature values\n",
    "    by their respective “standard deviations.”\n",
    "\n",
    "The standard deviation is a way of measuring how much variation there is\n",
    "in the range of values of a particular feature (most data points will lie within\n",
    "$\\pm 2$ standard deviations of the mean); this is an alternative to taking the range\n",
    "of values (max-min). In `numpy`, you can use the `np.std` function to\n",
    "compute the standard deviation. For example, inside `feature_normalize`,\n",
    "the quantity `X[:, 0]` contains all the values of $x_1$ (house sizes) in the training\n",
    "set, so `np.std(X[:, 0))` computes the standard deviation of the house sizes.\n",
    "At the time that `feature_normalize` is called, the extra column of 1’s\n",
    "corresponding to $x_0 = 1$ has not yet been added to `X`.\n",
    "\n",
    "You will do this for all the features and your code should work with\n",
    "datasets of all sizes (any number of features / examples). Note that each\n",
    "column of the matrix X corresponds to one feature.\n",
    "\n",
    "> **Implementation Note:** When normalizing the features, it is important\n",
    "> to store the values used for normalization - the mean value and the standard\n",
    "> deviation used for the computations. After learning the parameters\n",
    "> from the model, we often want to predict the prices of houses we have not\n",
    "> seen before. Given a new $x$ value (living room area and number of bedrooms),\n",
    "> we must first normalize $x$ using the mean and standard deviation\n",
    "> that we had previously computed from the training set."
   ]
  },
  {
   "cell_type": "code",
   "execution_count": null,
   "metadata": {
    "collapsed": true
   },
   "outputs": [],
   "source": [
    "def feature_normalize(X):\n",
    "    \"\"\"Normalizes features in X\n",
    "    \n",
    "    feature_normalize() returns a normalized version of X where\n",
    "    the mean value of each feature if 0 and the standard \n",
    "    deviation is 1. This is often a good preprocessing step\n",
    "    to do when working with learning algorithms.\"\"\"\n",
    "\n",
    "    # You need to set these values correctly\n",
    "    X_norm = X\n",
    "    mu = np.matrix(np.zeros((X.shape[1], 0)))\n",
    "    sigma = np.matrix(np.zeros((X.shape[1], 0)))\n",
    "\n",
    "    # ====================== YOUR CODE HERE ======================\n",
    "    # Instructions:\n",
    "    #     First, for each feature dimension, compute the mean\n",
    "    #     of the feature and subtract it from the dataset,\n",
    "    #     storing the mean value in mu. Next, compute the \n",
    "    #     standard deviation of each feature and divide\n",
    "    #     each feature by it's standard deviation, storing\n",
    "    #     the standard deviation in sigma. \n",
    "    #\n",
    "    #     Note that X is a matrix where each column is a \n",
    "    #     feature and each row is an example. You need \n",
    "    #     to perform the normalization separately for \n",
    "    #     each feature. \n",
    "    #\n",
    "    # Hint:\n",
    "    #     You might find the 'np.mean' and 'np.std' functions useful.       \n",
    "\n",
    "\n",
    "    \n",
    "    \n",
    "    # ============================================================\n",
    "\n",
    "    return X_norm, mu, sigma"
   ]
  },
  {
   "cell_type": "code",
   "execution_count": null,
   "metadata": {
    "collapsed": false
   },
   "outputs": [],
   "source": [
    "# Scale features and set them to zero mean\n",
    "print('Normalizing Features ...');\n",
    "X, mu, sigma = feature_normalize(X)\n",
    "\n",
    "# Add intercept term to X\n",
    "K = np.empty((m, 1 + X.shape[1]))\n",
    "K[:, 0] = np.ones(m); K[:, 1:] = X\n",
    "X = K"
   ]
  },
  {
   "cell_type": "code",
   "execution_count": null,
   "metadata": {
    "collapsed": false
   },
   "outputs": [],
   "source": [
    "# You should now submit your solutions\n",
    "submit(login_email, submission_token)"
   ]
  },
  {
   "cell_type": "markdown",
   "metadata": {},
   "source": [
    "## Gradient Descent\n",
    "Previously, you implemented gradient descent on a univariate regression\n",
    "problem. The only difference now is that there is one more feature in the\n",
    "matrix `X`. The hypothesis function and the batch gradient descent update\n",
    "rule remain unchanged.\n",
    "\n",
    "You should complete the code in `compute_cost_multi` and `gradient_descent_multi`\n",
    "to implement the cost function and gradient descent for linear regression with\n",
    "multiple variables. If your code in the previous part (single variable) already\n",
    "supports multiple variables, you can use it here too.\n",
    "\n",
    "Make sure your code supports any number of features and is well-vectorized.\n",
    "You can use `X.shape[1]` to find out how many features are present in the\n",
    "dataset.\n",
    "\n",
    "> Implementation Note: In the multivariate case, the cost function can\n",
    "> also be written in the following vectorized form:\n",
    ">\n",
    "> $$ J(\\theta) = \\dfrac{1}{2m}(X\\theta - \\vec{y})^T\\times(X\\theta - \\vec{y}) $$\n",
    ">\n",
    "> Where\n",
    ">\n",
    "> $$\n",
    "    X = \\left[\\begin{matrix} -\\ (x^{(1)})^T\\ - \\\\ -\\ (x^{(2)})^T\\ - \\\\ \\vdots \\\\ -\\ (x^{(n)})^T\\ - \\end{matrix}\\right]\n",
    "    \\qquad\n",
    "    \\vec{y} = \\left[\\begin{matrix} y^{(1)} \\\\ y^{(2)} \\\\ \\vdots \\\\ y^{(n)} \\end{matrix}\\right]\n",
    "  $$\n",
    ">\n",
    "> The vectorized version is efficient when you’re working with numerical\n",
    "> computing libraries like numpy. If you are an expert with matrix\n",
    "> operations, you can prove to yourself that the two forms are equivalent."
   ]
  },
  {
   "cell_type": "code",
   "execution_count": null,
   "metadata": {
    "collapsed": true
   },
   "outputs": [],
   "source": [
    "def compute_cost_multi(X, y, theta):\n",
    "    \"\"\"Compute cost for linear regression with multiple variables\n",
    "\n",
    "    Computes the cost of using theta as the parameter for linear\n",
    "    regression to fit the data points in X and y.\n",
    "    \"\"\"\n",
    "\n",
    "    # Initialize some useful values\n",
    "    \n",
    "    # number of training examples\n",
    "    m = y.size\n",
    "\n",
    "    # You need to return the following variables correctly \n",
    "    J = 0\n",
    "\n",
    "    # ====================== YOUR CODE HERE ======================\n",
    "    # Instructions:\n",
    "    #     Compute the cost of a particular choice of theta\n",
    "    #     You should set J to the cost.\n",
    "\n",
    "    \n",
    "\n",
    "    # ============================================================\n",
    "    \n",
    "    return J"
   ]
  },
  {
   "cell_type": "code",
   "execution_count": null,
   "metadata": {
    "collapsed": true
   },
   "outputs": [],
   "source": [
    "def gradient_descent_multi(X, y, theta, alpha, num_iters):    \n",
    "    \"\"\"Performs gradient descent to learn theta\n",
    "\n",
    "    Updates theta by taking num_iters gradient steps \n",
    "    with learning rate alpha\n",
    "    \"\"\"\n",
    "    \n",
    "    # Initialize some useful values\n",
    "    \n",
    "    # number of training examples\n",
    "    m = y.size\n",
    "    \n",
    "    J_history = np.zeros((num_iters, 1))\n",
    "\n",
    "    for i in range(num_iters):\n",
    "\n",
    "        # ====================== YOUR CODE HERE ======================\n",
    "        # Instructions:\n",
    "        #     Perform a single gradient step on the parameter vector\n",
    "        #     theta. \n",
    "        #\n",
    "        # Hint:\n",
    "        #     While debugging, it can be useful to print out the values\n",
    "        #     of the cost function (compute_cost_multi) and gradient here.\n",
    "        #\n",
    "    \n",
    "    \n",
    "\n",
    "        # ============================================================\n",
    "\n",
    "        # Save the cost J in every iteration    \n",
    "#         J_history[i] = compute_cost_multi(X, y, theta)\n",
    "    \n",
    "    return theta, J_history"
   ]
  },
  {
   "cell_type": "markdown",
   "metadata": {},
   "source": [
    "### Optional (ungraded) exercise: Selecting learning rates\n",
    "\n",
    "In this part of the exercise, you will get to try out different learning rates for\n",
    "the dataset and find a learning rate that converges quickly. You can change\n",
    "the learning rate by modifying the next cell and changing the part of the\n",
    "code that sets the learning rate.\n",
    "\n",
    "The next cell will call your `gradient_descent()` function\n",
    "and run gradient descent for about 50 iterations at the chosen learning\n",
    "rate. The function should also return the history of $J(\\theta)$ values in a vector\n",
    "`J`. After the last iteration, the cell plots the $J$ values against\n",
    "the number of the iterations.\n",
    "\n",
    "If you picked a learning rate within a good range, your plot should look similar\n",
    "to Figure 4. If your graph looks very different, especially if your value of $J(\\theta)$\n",
    "increases or even blows up, adjust your learning rate and try again. We recommend\n",
    "trying values of the learning rate $\\alpha$ on a log-scale, at multiplicative\n",
    "steps of about 3 times the previous value (i.e., 0.3, 0.1, 0.03, 0.01 and so on).\n",
    "You may also want to adjust the number of iterations you are running if that\n",
    "will help you see the overall trend in the curve.\n",
    "\n",
    "<center>\n",
    "<img src='./figs/ex1_fig4.png'>\n",
    "Figure 4: Convergence of gradient descent with an appropriate learning rate\n",
    "</center>\n",
    "\n",
    "> **Implementation Note:** If your learning rate is too large, $J(\\theta)$ can diverge\n",
    "> and ‘blow up’, resulting in values which are too large for computer\n",
    "> calculations. In these situations, numpy will tend to return\n",
    "> `nan`s. `nan` stands for ‘not a number’ and is often caused by undefined\n",
    "> . operations that involve $-\\infty$ and $+\\infty$.\n",
    ">\n",
    "> ---\n",
    ">\n",
    "> **Python Tip:** To compare how different learning learning\n",
    "> rates affect convergence, it’s helpful to plot J for several learning rates\n",
    "> on the same figure. In matplotlib, this can be done by performing\n",
    "> gradient descent multiple times and not calling `plt.figure()` between plots.\n",
    "> Concretely, if you’ve tried three different values of alpha (you should\n",
    "> probably try more values than this) and stored the costs in `J1`, `J2` and\n",
    "> J3, you can use the following commands to plot them on the same figure:\n",
    ">\n",
    "```python \n",
    "    plt.plot(range(50), J1(:50), 'b')\n",
    "    plt.plot(range(50), J2(:50), 'r')\n",
    "    plt.plot(range(50), J3(:50), 'k')\n",
    "```\n",
    "> The final arguments `b`, `r`, and `k` specify different colors for the\n",
    "> plots.\n",
    "\n",
    "\n",
    "Notice the changes in the convergence curves as the learning rate changes.\n",
    "With a small learning rate, you should find that gradient descent takes a very\n",
    "long time to converge to the optimal value. Conversely, with a large learning\n",
    "rate, gradient descent might not converge or might even diverge!\n",
    "\n",
    "Using the best learning rate that you found, run the cell\n",
    "to run gradient descent until convergence to find the final values of $\\theta$. Next,\n",
    "use this value of $\\theta$ to predict the price of a house with 1650 square feet and\n",
    "3 bedrooms. You will use this value later to check your implementation of the\n",
    "normal equations. Don’t forget to normalize your features when you make\n",
    "this prediction!\n",
    "\n",
    "*You do not need to submit any solutions for these optional (ungraded)\n",
    "exercises.*"
   ]
  },
  {
   "cell_type": "code",
   "execution_count": null,
   "metadata": {
    "collapsed": false,
    "scrolled": false
   },
   "outputs": [],
   "source": [
    "# ====================== YOUR CODE HERE ======================\n",
    "# Instructions:\n",
    "#     We have provided you with the following starter\n",
    "#     code that runs gradient descent with a particular\n",
    "#     learning rate (alpha). \n",
    "#\n",
    "#     Your task is to first make sure that your functions - \n",
    "#     computeCost and gradientDescent already work with \n",
    "#     this starter code and support multiple variables.\n",
    "#\n",
    "#     After that, try running gradient descent with \n",
    "#     different values of alpha and see which one gives\n",
    "#     you the best result.\n",
    "#\n",
    "#     Finally, you should complete the code at the end\n",
    "#     to predict the price of a 1650 sq-ft, 3 br house.\n",
    "#\n",
    "# Hint:\n",
    "#     By using the 'hold on' command, you can plot multiple\n",
    "#     graphs on the same figure.\n",
    "#\n",
    "# Hint:\n",
    "#     At prediction, make sure you do the same feature normalization.\n",
    " \n",
    "\n",
    "print('Running gradient descent ...');\n",
    "\n",
    "# Choose some alpha value\n",
    "alpha = 0.1\n",
    "num_iters = 400\n",
    "\n",
    "# Init Theta and Run Gradient Descent \n",
    "theta = np.matrix(np.zeros((3, 1)))\n",
    "theta, J_history = gradient_descent_multi(X, y, theta, alpha, num_iters)\n",
    "\n",
    "# Plot the convergence graph\n",
    "plt.figure(figsize=(8, 6))\n",
    "plt.plot(range(len(J_history)), J_history, 'b-', linewidth=2)\n",
    "plt.xlabel('Number of iterations')\n",
    "plt.ylabel('Cost J')\n",
    "\n",
    "# Display gradient descent's result\n",
    "print('Theta computed from gradient descent:')\n",
    "print(theta)"
   ]
  },
  {
   "cell_type": "code",
   "execution_count": null,
   "metadata": {
    "collapsed": false
   },
   "outputs": [],
   "source": [
    "# Estimate the price of a 1650 sq-ft, 3 br house\n",
    "# ====================== YOUR CODE HERE ======================\n",
    "# Recall that the first column of X is all-ones. Thus, it does\n",
    "# not need to be normalized.\n",
    "\n",
    "# You should change this\n",
    "norm_details = np.matrix([0.0, 0.0])\n",
    "price = 0.0\n",
    "\n",
    "# ============================================================\n",
    "\n",
    "print('Predicted price of a 1650 sq-ft, 3 br house (using gradient descent):{}'.format(price.item(0)))"
   ]
  },
  {
   "cell_type": "markdown",
   "metadata": {},
   "source": [
    "## Normal Equations\n",
    "\n",
    "In the lecture videos, you learned that the closed-form solution to linear\n",
    "regression is\n",
    "\n",
    "$$ \\theta = (X^T X)^{-1}X^T \\vec{y}. $$\n",
    "\n",
    "Using this formula does not require any feature scaling, and you will get\n",
    "an exact solution in one calculation: there is no “loop until convergence” like\n",
    "in gradient descent.\n",
    "\n",
    "Complete the code in `normal_equation()` to use the formula above to calculate\n",
    "$\\theta$. Remember that while you don’t need to scale your features, we still\n",
    "need to add a column of 1’s to the X matrix to have an intercept term ($\\theta_0$).\n",
    "The prewritten code will add the column of 1’s to X for you."
   ]
  },
  {
   "cell_type": "code",
   "execution_count": null,
   "metadata": {
    "collapsed": true
   },
   "outputs": [],
   "source": [
    "def normal_equation(X, y):\n",
    "    \"\"\"Computes the closed-form solution to linear regression \n",
    "\n",
    "    Computes the closed-form solution to linear \n",
    "    regression using the normal equations.\n",
    "    \"\"\"\n",
    "\n",
    "    theta = np.matrix(np.zeros((X.shape[1], 1)));\n",
    "\n",
    "    # ====================== YOUR CODE HERE ======================\n",
    "    # Instructions:\n",
    "    #     Complete the code to compute the closed form solution\n",
    "    #     to linear regression and put the result in theta.\n",
    "    #\n",
    "    \n",
    "    \n",
    "\n",
    "    # ============================================================\n",
    "    \n",
    "    return theta"
   ]
  },
  {
   "cell_type": "code",
   "execution_count": null,
   "metadata": {
    "collapsed": false
   },
   "outputs": [],
   "source": [
    "print('Solving with normal equations...')\n",
    "\n",
    "# ====================== YOUR CODE HERE ======================\n",
    "# Instructions:\n",
    "#     The following code computes the closed form \n",
    "#     solution for linear regression using the normal\n",
    "#     equations. You should complete the code in \n",
    "#     normalEqn.m\n",
    "\n",
    "#     After doing so, you should complete this code \n",
    "#     to predict the price of a 1650 sq-ft, 3 br house.\n",
    "\n",
    "## Load Data\n",
    "data = pd.read_csv('./data/ex1/ex1data2.csv', header=None)\n",
    "\n",
    "X = np.array([data[0], data[1]]).T\n",
    "y = np.array([data[2]]).T\n",
    "m = y.size\n",
    "\n",
    "# Add intercept term to X\n",
    "K = np.empty((m, 1 + X.shape[1]))\n",
    "K[:, 0] = np.ones(m); K[:, 1:] = X\n",
    "X = np.matrix(K)\n",
    "\n",
    "# Calculate the parameters from the normal equation\n",
    "theta = normal_equation(X, y)\n",
    "\n",
    "# Display normal equation's result\n",
    "print('Theta computed from the normal equations:')\n",
    "print(theta)"
   ]
  },
  {
   "cell_type": "code",
   "execution_count": null,
   "metadata": {
    "collapsed": false
   },
   "outputs": [],
   "source": [
    "# You should now submit your solutions\n",
    "submit(login_email, submission_token)"
   ]
  },
  {
   "cell_type": "markdown",
   "metadata": {},
   "source": [
    "*Optional (ungraded) exercise:* Now, once you have found $\\theta$ using this\n",
    "method, use it to make a price prediction for a 1650-square-foot house with\n",
    "3 bedrooms. You should find that gives the same predicted price as the value\n",
    "you obtained using the model fit with gradient descent (in the last section)."
   ]
  },
  {
   "cell_type": "code",
   "execution_count": null,
   "metadata": {
    "collapsed": false
   },
   "outputs": [],
   "source": [
    "# ====================== YOUR CODE HERE ======================\n",
    "\n",
    "# You should change this\n",
    "price = np.matrix([0.0, 0.0, 0.0])\n",
    "\n",
    "# ============================================================\n",
    "\n",
    "\n",
    "print('Predicted price of a 1650 sq-ft, 3 br house (using normal equations):{}'.format(price.item(0)))"
   ]
  },
  {
   "cell_type": "markdown",
   "metadata": {},
   "source": [
    "# Submission and Grading\n",
    "\n",
    "After completing various parts of the assignment, be sure to use the submit\n",
    "function system to submit your solutions to our servers. The following is a\n",
    "breakdown of how each part of this exercise is scored.\n",
    "\n",
    "* Warm up exercise (`warm_up_exercise`): 10 points\n",
    "* Compute cost for one variable (`compute_cost`): 40 points\n",
    "* Gradient descent for one variable (`gradient_descent`): 50 points\n",
    "* Total Points: 100 points\n",
    "\n",
    "**Optional Exercises**\n",
    "* Feature normalization (`feature_normalize`): 0 points\n",
    "* Compute cost for multiple variables (`compute_cost_multi`): 0 points\n",
    "* Gradient descent for multiple variables (`gradient_descent_multi`): 0 points\n",
    "* Normal Equations (`normal_equation`): 0 points\n",
    "\n",
    "You are allowed to submit your solutions multiple times, and we will take\n",
    "only the highest score into consideration.\n",
    "\n"
   ]
  }
 ],
 "metadata": {
  "kernelspec": {
   "display_name": "Python [Root]",
   "language": "python",
   "name": "Python [Root]"
  },
  "language_info": {
   "codemirror_mode": {
    "name": "ipython",
    "version": 2
   },
   "file_extension": ".py",
   "mimetype": "text/x-python",
   "name": "python",
   "nbconvert_exporter": "python",
   "pygments_lexer": "ipython2",
   "version": "2.7.12"
  }
 },
 "nbformat": 4,
 "nbformat_minor": 0
}
